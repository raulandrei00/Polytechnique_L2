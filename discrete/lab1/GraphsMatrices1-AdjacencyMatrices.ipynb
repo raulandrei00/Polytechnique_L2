{
 "cells": [
  {
   "cell_type": "markdown",
   "metadata": {},
   "source": [
    "<img src='./figures/logo_ecole_polytechnique_IPP.png' style='position:absolute; top:0; right:0;' width='80px' height='' alt='' />\n",
    "\n",
    "<center>**Bachelor of Ecole Polytechnique**</center>\n",
    "<center>Algorithms for Discrete Mathematics, year 2, semester 1</center>\n",
    "<center>Lecturer: Ziad Kobeissi <a href=\"mailto:ziad.kobeissi@inria.fr\">(send mail)</a></center>\n",
    "<center>Notebook by Lucas Gérin</center>\n",
    "\n",
    "# Graphs and Matrices 1: Adjacency Matrices\n"
   ]
  },
  {
   "cell_type": "markdown",
   "metadata": {},
   "source": [
    "## Table of contents\n",
    "\n",
    "- [Adjacency Matrices](#Paths)\n",
    "- [Enumeration of words](#words)\n",
    "- [Transition Matrices and Absorption probabilities](#Escape)\n",
    "- [Bonus](#Target)\n"
   ]
  },
  {
   "cell_type": "code",
   "execution_count": 1,
   "metadata": {},
   "outputs": [
    {
     "data": {
      "text/html": [
       "<link href='http://fonts.googleapis.com/css?family=Fenix' rel='stylesheet' type='text/css'>\n",
       "<link href='http://fonts.googleapis.com/css?family=Alegreya+Sans:100,300,400,500,700,800,900,100italic,300italic,400italic,500italic,700italic,800italic,900italic' rel='stylesheet' type='text/css'>\n",
       "<link href='http://fonts.googleapis.com/css?family=Source+Code+Pro:300,400' rel='stylesheet' type='text/css'>\n",
       "<link href=\"https://fonts.googleapis.com/css?family=Oswald|Raleway\" rel=\"stylesheet\" type='text/css'> \n",
       "<style>\n",
       ".prompt{\n",
       "    display: none !important;\n",
       "}\n",
       "\n",
       ".rendered_html pre {\n",
       "    border: 1px solid #f0f6f9 !important;\n",
       "}\n",
       "\n",
       ".rendered_html pre, .rendered_html code {\n",
       "    background-color: #d3d8db !important;\n",
       "    padding: 1% !important;\n",
       "    line-height: 200% !important;\n",
       "    border-radius: 10px !important;\n",
       "}\n",
       "\n",
       "div.input_area {\n",
       "    border-radius: 10px !important;\n",
       "    background-color: #e1e1e6 !important;\n",
       "}\n",
       "\n",
       "div.cell{\n",
       "        width:85% !important;\n",
       "        margin-left:5% !important;\n",
       "        /*margin-right:auto;*/\n",
       "    }\n",
       "    h1, h2, h3, h4, h5 {\n",
       "        font-family: 'Oswald', sans-serif; !important;\n",
       "        font-style: oblique !important;\n",
       "    }\n",
       "    div.text_cell_render{\n",
       "        font-family: 'Raleway', sans-serif; !important;\n",
       "        line-height: 135% !important;\n",
       "        font-size: 120% !important;\n",
       "        width:100%;/*600px;*/\n",
       "        /*margin-left:auto;*/\n",
       "        /*margin-right:auto;*/\n",
       "    }\n",
       "    .CodeMirror{\n",
       "            font-family: \"Source Code Pro\" !important;\n",
       "\t\t\tfont-size: 100% !important;\n",
       "    }\n",
       "    .text_cell_render p{\n",
       "        text-align: justify !important;\n",
       "    }\n",
       "    .text_cell_render h1 {\n",
       "        font-weight: 200 !important;\n",
       "\t\tline-height: 100% !important;\n",
       "        color:#47597A !important;\n",
       "        margin-bottom: 10.em !important;\n",
       "        margin-top: 50.em !important;\n",
       "        padding-bottom: 50.em !important;\n",
       "        padding-top: 50.em !important;\n",
       "        display: block !important;\n",
       "        font-size: 300% !important;\n",
       "        text-align: center !important;\n",
       "        border-bottom: 1px solid #47597A !important;\n",
       "        border-top: 1px solid #47597A !important;\n",
       "    }\n",
       "    .text_cell_render h2 {\n",
       "        font-weight: 200 !important;\n",
       "\tline-height: 100% !important;\n",
       "        color:#47597A !important;\n",
       "        margin-bottom: 0.5em !important;\n",
       "        margin-top: 0.5em !important;\n",
       "        display: block !important;\n",
       "        font-size: 200% !important;\n",
       "        border-bottom: 1px solid #47597A !important;\n",
       "    }\n",
       "    .text_cell_render h3 {\n",
       "        font-weight: 200 !important;\n",
       "\tline-height: 100% !important;\n",
       "        color:#47597A !important;\n",
       "        margin-bottom: 0.5em !important;\n",
       "        margin-top: 0.5em !important;\n",
       "        display: block !important;\n",
       "        font-size: 150% !important;\n",
       "    }\n",
       "    .text_cell_render h4 {\n",
       "        font-style: italic !important;\n",
       "        font-weight: bold !important;\n",
       "\tline-height: 100% !important;\n",
       "        color:#47597A !important;\n",
       "        display: block !important;\n",
       "        font-size: 100% !important;\n",
       "    }\n",
       "    .text_cell_render h5 {\n",
       "        font-weight: 200 !important;\n",
       "\tline-height: 100% !important;\n",
       "        color:#47597A !important;\n",
       "        margin-bottom: 0.5em !important;\n",
       "        margin-top: 0.5em !important;\n",
       "        display: block !important;\n",
       "        font-size: 100% !important;\n",
       "    }\n",
       "    .text_cell_render ul {\n",
       "\tlist-style-type: disc !important;\n",
       "\tline-height: 2;\n",
       "\t/*color:#47597A !important;*/\n",
       "    }\n",
       "    .warning{\n",
       "        color: rgb( 240, 20, 20 ) !important;\n",
       "        }\n",
       "    .Abstract {  \n",
       "\ttext-align: justify;\n",
       "\tbackground-color: #d6edf9;\n",
       "\tborder-left: 5px solid #47597A;\n",
       "\tpadding: 0.5em;\n",
       "\tmargin: 0  150px 0 150px;\n",
       "    }\n",
       "    .Def {    \n",
       "\tbackground-color: #d9f7d7;\n",
       "\tborder-left: 5px solid #4a7047;\n",
       "\tpadding: 0.5em;\n",
       "    }\n",
       "    .Def:before {\n",
       "\tcontent: \"Definition.\";\n",
       "\tcolor:#4a7047;\n",
       "\tfont-weight: bold;\n",
       "\tfont-style: normal;\n",
       "    }\n",
       "    .DoIt {    \n",
       "\tbackground-color: #e8cfc9;\n",
       "\tborder-left: 5px solid #a90e05;\n",
       "\tpadding: 0.5em;\n",
       "    }\n",
       "    .DoIt:before {\n",
       "\tcontent: \"Do it yourself.\";\n",
       "\tcolor:#a90e05;\n",
       "\tfont-weight: bold;\n",
       "\tfont-style: normal;\n",
       "    }\n",
       "    .Answers {    \n",
       "\tbackground-color: #DDA0DD;\n",
       "\tborder-left: 5px solid #9932CC;\n",
       "\tpadding: 0.5em;\n",
       "    }\n",
       "    .Answers:before {\n",
       "\tcontent: \"Answers.\";\n",
       "\tcolor:#682145;\n",
       "\tfont-weight: bold;\n",
       "\tfont-style: normal;\n",
       "    }\n",
       "    .Prop {    \n",
       "\tbackground-color:#f9ecd1;\n",
       "\tborder-left: 5px solid #ba7021;\n",
       "\tpadding: 0.5em;\n",
       "    }\n",
       "   .Prop:before {\n",
       "       content: \"Proposition.\";\n",
       "       color:#ba7021;\n",
       "       font-weight: bold;\n",
       "       font-style: normal;\n",
       "    }\n",
       "   .Thm {    \n",
       "\tbackground-color:#f9ecd1;\n",
       "\tborder-left: 5px solid #ba7021;\n",
       "\tpadding: 0.5em;\n",
       "    }\n",
       "   .Thm:before {\n",
       "       content: \"Theorem.\";\n",
       "       color:#ba7021;\n",
       "       font-weight: bold;\n",
       "       font-style: normal;\n",
       "    } \n",
       "   .Algo {    \n",
       "\tbackground-color:#f9ecd1;\n",
       "\tborder-left: 5px solid #ba7021;\n",
       "\tpadding: 0.5em;\n",
       "    }\n",
       "   .Algo:before {\n",
       "       content: \"Algorithm.\";\n",
       "       color:#ba7021;\n",
       "       font-weight: bold;\n",
       "       font-style: normal;\n",
       "    }\n",
       "    .Rmk {    \n",
       "\tbackground-color: #dbf1fc;\n",
       "\tborder-left: 5px solid #385487;\n",
       "\tpadding: 0.5em;\n",
       "    }\n",
       "    .Rmk:before {\n",
       "\tcontent: \"Remark.\";\n",
       "\tcolor:#385487;\n",
       "\tfont-weight: bold;\n",
       "\tfont-style: normal;\n",
       "    }\n",
       "    .Ex {    \n",
       "\tbackground-color: #dbf1fc;\n",
       "\tborder-left: 5px solid #385487;\n",
       "\tpadding: 0.5em;\n",
       "    }\n",
       "    .Ex:before {\n",
       "\tcontent: \"Example.\";\n",
       "\tcolor:#385487;\n",
       "\tfont-weight: bold;\n",
       "\tfont-style: normal;\n",
       "    }\n",
       "\n",
       "/*    .toc-item-num {\n",
       "#        display: none;\n",
       "#    }\n",
       "*/\n",
       "    .reveal section img{\n",
       "        margin: 0px auto;\n",
       "    }\n",
       "\n",
       "    div.output_area img{\n",
       "        display: block;\n",
       "        margin: 0px auto;\n",
       "    }\n",
       "  \n",
       "</style>\n",
       "\n",
       "<script>\n",
       "MathJax.Hub.Config({\n",
       "TeX: {extensions: [\"AMSmath.js\"] },\n",
       "                tex2jax: {\n",
       "                    inlineMath: [ ['$','$'], [\"\\\\(\",\"\\\\)\"] ],\n",
       "                    displayMath: [ ['$$','$$'], [\"\\\\[\",\"\\\\]\"] ]\n",
       "                },\n",
       "                displayAlign: 'center', // Change this to 'center' to center equations.\n",
       "                \"HTML-CSS\": {\n",
       "                    styles: {'.MathJax_Display': {\"margin\": 4}}\n",
       "                }\n",
       "        });\n",
       "\n",
       "\n",
       "\n",
       "</script>\n"
      ],
      "text/plain": [
       "<IPython.core.display.HTML object>"
      ]
     },
     "execution_count": 1,
     "metadata": {},
     "output_type": "execute_result"
    }
   ],
   "source": [
    "# execute this part to modify the css style\n",
    "from IPython.core.display import HTML\n",
    "def css_styling():\n",
    "    styles = open(\"./style/custom2.css\").read()\n",
    "    return HTML(styles)\n",
    "css_styling()\n"
   ]
  },
  {
   "cell_type": "code",
   "execution_count": 2,
   "metadata": {},
   "outputs": [],
   "source": [
    "## loading python libraries\n",
    "\n",
    "# necessary to display plots inline:\n",
    "%matplotlib inline   \n",
    "\n",
    "# load the libraries\n",
    "import matplotlib.pyplot as plt # 2D plotting library\n",
    "import numpy as np              # package for scientific computing  \n",
    "\n",
    "from math import *              # package for mathematics (pi, arctan, sqrt, factorial ...)\n",
    "import sympy as sympy             # package for symbolic computation\n",
    "from sympy import *\n"
   ]
  },
  {
   "cell_type": "markdown",
   "metadata": {},
   "source": [
    "<!--<div markdown=1 class=\"Rmk\"> Here is the Latex code of a matrix that you can copy/paste throughout the notebook:\n",
    "$$\n",
    "M=\n",
    "\\begin{matrix}\n",
    "v_1 \\\\ v_2 \\\\ v_3 \n",
    "\\end{matrix}\n",
    "\\begin{pmatrix}\n",
    "1 & 1 & 0\\\\\n",
    "0 & 0 & 1\\\\\n",
    "0 & 1 & 0\\\\\n",
    "\\end{pmatrix}.\n",
    "$$-->\n"
   ]
  },
  {
   "cell_type": "markdown",
   "metadata": {},
   "source": [
    "<a id=\"Paths\"></a>\n",
    "# Adjacency Matrices"
   ]
  },
  {
   "cell_type": "markdown",
   "metadata": {},
   "source": [
    "### Exercise 1. Warm-up\n",
    "Let $G$ be the following graph:\n",
    "<img src=\"figures/GrapheBasique.jpg\" style=\"width: 200px;\"/>\n"
   ]
  },
  {
   "cell_type": "markdown",
   "metadata": {},
   "source": []
  },
  {
   "cell_type": "markdown",
   "metadata": {},
   "source": [
    "<div markdown=1 class=\"DoIt\"> Use the adjacency matrix of $G$ to compute the number of paths of length $20$ from $d$ to $c$ in $G$."
   ]
  },
  {
   "cell_type": "code",
   "execution_count": 4,
   "metadata": {},
   "outputs": [
    {
     "name": "stdout",
     "output_type": "stream",
     "text": [
      "488\n"
     ]
    }
   ],
   "source": [
    "def mat_mul (A , B):\n",
    "    n = len(A)\n",
    "    ret = [[0 for _ in range(n)] for _ in range(n)]\n",
    "    for i in range (n):\n",
    "        for j in range(n):\n",
    "            for k in range(n):\n",
    "                ret[i][j] += A[i][k] * B[k][j]\n",
    "\n",
    "    return ret\n",
    "\n",
    "G = np.array([[0,1,0,0] , \n",
    "     [1,0,1,1],\n",
    "     [1,0,0,0],\n",
    "     [1,0,0,0]])\n",
    "\n",
    "G_20 = np.linalg.matrix_power(G , 20)\n",
    "print(G_20[3][2])"
   ]
  },
  {
   "cell_type": "markdown",
   "metadata": {},
   "source": [
    "<div markdown=1 class=\"Answers\"> \n",
    "    488"
   ]
  },
  {
   "cell_type": "markdown",
   "metadata": {},
   "source": [
    "<a id=\"words\"></a>\n",
    "##  Enumeration of words\n",
    "\n",
    "### Exercise 2. $b$ never followed by $c$"
   ]
  },
  {
   "cell_type": "markdown",
   "metadata": {},
   "source": [
    "<div markdown=1 class=\"DoIt\"> We consider words with letters $a,b,c$. Let $M_n$ be the number of words of length $n$ (the length of a word is the number of letters) such that a $b$ is never immediately followed by a  $c$.\n",
    "\n",
    "For example $M_2=8$:\n",
    "$$\n",
    "aa,\\ ab,\\ ac,\\ ba,\\ bb,\\ ca,\\ cb,\\ cc.\n",
    "$$\n",
    "\n",
    "**Question 1.** Write a script which computes $M_1,M_2,\\dots,M_{20}$ using a graph and its adjacency matrix. You can consider the following graph:\n",
    "<br><br>\n",
    "<center>\n",
    "<img src=\"figures/Graphe_abc.jpg\" style=\"width: 200px;\"/></center>\n",
    "<br>\n"
   ]
  },
  {
   "cell_type": "markdown",
   "metadata": {},
   "source": [
    "<div markdown=1 class=\"Answers\"> \n",
    "\n",
    "**Question 1.** \n",
    "starting from M2:\n",
    "8\n",
    "21\n",
    "55\n",
    "144\n",
    "377\n",
    "987\n",
    "2584\n",
    "6765\n",
    "17711\n",
    "46368\n",
    "121393\n",
    "317811\n",
    "832040\n",
    "2178309\n",
    "5702887\n",
    "14930352\n",
    "39088169\n",
    "102334155\n",
    "267914296\n",
    "701408733\n",
    "1836311903"
   ]
  },
  {
   "cell_type": "code",
   "execution_count": 10,
   "metadata": {},
   "outputs": [
    {
     "name": "stdout",
     "output_type": "stream",
     "text": [
      "8\n",
      "21\n",
      "55\n",
      "144\n",
      "377\n",
      "987\n",
      "2584\n",
      "6765\n",
      "17711\n",
      "46368\n",
      "121393\n",
      "317811\n",
      "832040\n",
      "2178309\n",
      "5702887\n",
      "14930352\n",
      "39088169\n",
      "102334155\n",
      "267914296\n",
      "701408733\n",
      "1836311903\n"
     ]
    }
   ],
   "source": [
    "G = np.array([[1,1,1],\n",
    "              [1,1,0],\n",
    "              [1,1,1]])\n",
    "M = []\n",
    "\n",
    "def I(n):\n",
    "    ret = [[0 for _ in range(n)] for _ in range(n)]\n",
    "    for i in range (n):\n",
    "        ret[i][i] = 1\n",
    "    return ret\n",
    "\n",
    "base = I(3)\n",
    "for i in range(21):\n",
    "    base = G @ base\n",
    "    M.append(sum( [sum([base[j][i] for i in range(3)]) for j in range(3)] ))\n",
    "    print(M[-1])"
   ]
  },
  {
   "cell_type": "markdown",
   "metadata": {},
   "source": [
    "### Exercise 3.  $b$-short words\n",
    "<div markdown=1 class=\"DoIt\"> We say that a word $w$ with letters $a,b$ is $b$-<i>short</i> if there are never $4$ consecutive $b$'s in $w$. For instance,\n",
    "$$\n",
    "w_1=aa\\color{green}{b}aaaaaa\\color{green}{bbb}aaa\\color{green}{b}aa\n",
    "$$\n",
    "is $b$-short while\n",
    "$$\n",
    "w_2=aa\\color{green}{b}aa\\color{green}{bb}a\\color{red}{bbbbbb}aa\\color{green}{bb}a\n",
    "$$\n",
    "is not. Let $S_n$ be the number of $b$-short words of length $n$.\n",
    "\n",
    "Write a script which computes $S_1,S_2,\\dots,S_{20}$ using a graph and its adjacency matrix.\n"
   ]
  },
  {
   "cell_type": "markdown",
   "metadata": {},
   "source": [
    "<div markdown=1 class=\"Answers\"> \n",
    "\n",
    "**Question 1.** \n",
    "2\n",
    "4\n",
    "8\n",
    "15\n",
    "29\n",
    "56\n",
    "108\n",
    "208\n",
    "401\n",
    "773\n",
    "1490\n",
    "2872\n",
    "5536\n",
    "10671\n",
    "20569\n",
    "39648\n",
    "76424\n",
    "147312\n",
    "283953\n",
    "547337"
   ]
  },
  {
   "cell_type": "code",
   "execution_count": 12,
   "metadata": {},
   "outputs": [
    {
     "name": "stdout",
     "output_type": "stream",
     "text": [
      "2\n",
      "4\n",
      "8\n",
      "15\n",
      "29\n",
      "56\n",
      "108\n",
      "208\n",
      "401\n",
      "773\n",
      "1490\n",
      "2872\n",
      "5536\n",
      "10671\n",
      "20569\n",
      "39648\n",
      "76424\n",
      "147312\n",
      "283953\n",
      "547337\n"
     ]
    }
   ],
   "source": [
    "# a -> 1b , a\n",
    "# 1b -> a , 2b ...\n",
    "#             a 1b 2b 3b\n",
    "G = np.array([[1, 1, 0, 0],\n",
    "              [1, 0, 1, 0],\n",
    "              [1, 0, 0, 1],\n",
    "              [1, 0, 0, 0]])\n",
    "\n",
    "base = I(4)\n",
    "base[2][2] = 0\n",
    "base[3][3] = 0\n",
    "S = []\n",
    "for i in range(1 , 21):\n",
    "    S.append(sum( [sum([base[j][i] for i in range(4)]) for j in range(4)] ))\n",
    "    print(S[-1])\n",
    "    base = base @ G"
   ]
  },
  {
   "cell_type": "markdown",
   "metadata": {},
   "source": [
    "<a id=\"Escape\"></a>\n",
    "# Transition matrices"
   ]
  },
  {
   "cell_type": "markdown",
   "metadata": {},
   "source": [
    "### Exercise 4. Labyrinth.\n",
    "\n",
    "We consider a random robot in the following labyrinth:\n",
    "\n",
    "<img src=\"figures/Labyrinthe.jpg\" style=\"width: 250px;\"/>\n",
    "\n",
    "The robot is initially in room $B$ (time $n=0$). At each time step, it chooses uniformly at random one of the doors of the room in which it is located, and passes through that door.<br> If the robot hits Exit $1$ (resp. $2$) it stays at Exit $1$ (resp. $2$) forever."
   ]
  },
  {
   "cell_type": "markdown",
   "metadata": {},
   "source": [
    "<div markdown=1 class=\"DoIt\"> \n",
    "\n",
    "Let $p(n)$ denote the vector of the probability distribution of the location of the robot at time $n$. More formally,\n",
    "$$\n",
    "p(n)=\\bigg(p_x(n) \\bigg)_{x\\in \\{A,B,C,D,E,\\text{Exit }1,\\text{Exit }2\\}},\n",
    "$$\n",
    "where $p_x(n)$ is the probability that the robot is at $x$ at time $n$. Of course we have that\n",
    "$$\n",
    "p(0)=(0,1,0,0,0,0,0).\n",
    "$$\n",
    "\n",
    "1) Use a transition matrix $M$ to compute approximate values of $p(5)$ and $ p(100)$. \n",
    "\n",
    "2) If we wait long enough the robot eventually escapes the labyrinth, either through Exit 1 or Exit 2. By raising $M$ to some large enough power ($100$ should be fine), find a numerical approximation of the probability that the robot escapes the labyrinth through Exit $1$."
   ]
  },
  {
   "cell_type": "markdown",
   "metadata": {},
   "source": [
    "<div markdown=1 class=\"Answers\"> \n",
    "    [0.22402263 0.         0.10442387 0.         0.22402263 0.24074074\n",
    " 0.20679012]\n",
    "[0.00000000e+00 1.17582781e-06 0.00000000e+00 9.21664841e-07\n",
    " 0.00000000e+00 4.66665811e-01 5.33332092e-01]"
   ]
  },
  {
   "cell_type": "code",
   "execution_count": 25,
   "metadata": {},
   "outputs": [
    {
     "name": "stdout",
     "output_type": "stream",
     "text": [
      "[0.22402263 0.         0.10442387 0.         0.22402263 0.24074074\n",
      " 0.20679012]\n",
      "[0.00000000e+00 1.17582781e-06 0.00000000e+00 9.21664841e-07\n",
      " 0.00000000e+00 4.66665811e-01 5.33332092e-01]\n",
      "robot escapes through 1:  46 % of the time\n"
     ]
    }
   ],
   "source": [
    "G = np.array([[0,1,0,1,0,0,0],\n",
    "              [1,0,1,0,1,0,0],\n",
    "              [0,1,0,0,0,1,0],\n",
    "              [1,0,0,0,1,0,0],\n",
    "              [0,1,0,1,0,0,1],\n",
    "              [0,0,0,0,0,1,0],\n",
    "              [0,0,0,0,0,0,1]], dtype= float)\n",
    "\n",
    "n = len(G)\n",
    "\n",
    "for i in range(n):\n",
    "    S = sum([G[i][j] for j in range(n)])\n",
    "    for j in range(n):\n",
    "        G[i][j] = float(G[i][j] / S)\n",
    "# print(G)\n",
    "\n",
    "state_0 = np.array([0,1,0,0,0,0,0] , dtype= float)\n",
    "\n",
    "state_5 = state_0 @ np.linalg.matrix_power(G , 5)\n",
    "print(state_5)\n",
    "\n",
    "state_100 = state_0 @ np.linalg.matrix_power(G , 100)\n",
    "print(state_100)\n",
    "\n",
    "print(\"robot escapes through 1: \" , int(state_100[5] * 100) , \"% of the time\")\n"
   ]
  },
  {
   "cell_type": "markdown",
   "metadata": {},
   "source": [
    "<div markdown=1 class=\"Answers\"> \n",
    "    robot escapes through 1:  46 % of the time"
   ]
  },
  {
   "cell_type": "markdown",
   "metadata": {},
   "source": [
    "<div markdown=1 class=\"DoIt\">\n",
    "We still assume that the robot starts at $B$.<br>\n",
    "Denote by $L_n$  the event \"The robot is still in the labyrinth at time $n$\" (<i>i.e.</i> it dit not find the exit yet). <br>\n",
    "\n",
    "1) Use your matrix $M$ to plot $n\\mapsto \\mathbb{P}(L_n)$. (Try $1\\leq n\\leq 40$.)<br>"
   ]
  },
  {
   "cell_type": "code",
   "execution_count": 28,
   "metadata": {},
   "outputs": [
    {
     "data": {
      "image/png": "[encoded data removed]",
      "text/plain": [
       "<Figure size 640x480 with 1 Axes>"
      ]
     },
     "metadata": {},
     "output_type": "display_data"
    }
   ],
   "source": [
    "crt_state = state_0\n",
    "\n",
    "L = []\n",
    "\n",
    "for i in range(1 , 41):\n",
    "    crt_state = crt_state @ G\n",
    "    L.append(sum([crt_state[i] for i in range(5)]))\n",
    "\n",
    "plt.plot(range(1 , 41) , L)\n",
    "plt.show()"
   ]
  },
  {
   "cell_type": "markdown",
   "metadata": {},
   "source": [
    "<div markdown=1 class=\"DoIt\"><br> \n",
    "Question 3). For $x\\in \\{A,B,C,D,E\\}$ let $\\pi_x$  be the probability that starting from $x$ the robot exits the labyrinth through Exit 1.<br>\n",
    "Write a system of equations for $\\pi_A, ...,\\pi_E$ (you can use the method explained in the <i>Math Toolbox</i>). Use `numpy` to solve the system and compare with your approximation obtained previously.<br>\n",
    "\n",
    "<i>NB: If you want to solve with `numpy` the system \n",
    "$$\n",
    "\\begin{cases}\n",
    "x+3y&=1\\\\\n",
    "2x-y&=0\n",
    "\\end{cases}\n",
    "$$\n",
    "you can use `np.linalg.solve`:</i>\n",
    "```\n",
    "A=np.array([[1,3],[2,-1]])\n",
    "B=np.array([1,0])\n",
    "print(np.linalg.solve(A, B))\n",
    "```"
   ]
  },
  {
   "cell_type": "markdown",
   "metadata": {},
   "source": [
    "<div markdown=1 class=\"Answers\"> "
   ]
  },
  {
   "cell_type": "code",
   "execution_count": null,
   "metadata": {},
   "outputs": [],
   "source": [
    "\n"
   ]
  },
  {
   "cell_type": "code",
   "execution_count": null,
   "metadata": {},
   "outputs": [],
   "source": []
  },
  {
   "cell_type": "markdown",
   "metadata": {},
   "source": [
    "<a id=\"Target\"></a>\n",
    "## Bonus: The target (taken from BX2022's Test)"
   ]
  },
  {
   "cell_type": "markdown",
   "metadata": {},
   "source": [
    "A player plays the following game: \n",
    "\n",
    "* A target $T \\in \\{1,2,3,\\dots \\}$ is fixed.\n",
    "* The player starts from $0$ and keeps throwing a fair die (with six faces) until the cumulative sum is $\\geq T$ and then stops.\n",
    "* If the player ends right on $T$ then the player has won, otherwise (<i>i.e.</i> the player ends on $T+1$, $T+2$,...,  $T+5$) the player has lost. \n",
    "\n",
    "Here is an example with $T=12$:\n",
    "$$\n",
    "0 \\stackrel{\\text{dice = }3}{\\longrightarrow} 3 \\stackrel{\\text{dice = }5}{\\longrightarrow} 8\\stackrel{\\text{dice = }1}{\\longrightarrow} 9\\stackrel{\\text{dice = }4}{\\longrightarrow} 13\\ \\text{(Lost)}\n",
    "$$"
   ]
  },
  {
   "cell_type": "markdown",
   "metadata": {},
   "source": [
    "<div markdown=1 class=\"DoIt\"> Write a function or a script in python which computes the winning probability $p_T$ when the target is $T$. Explain your strategy and justify that it is correct.<br><br>\n",
    "<i>In order to check your code:\n",
    "$$\n",
    "p_1=0.166667\\dots,\\quad p_2=0.194444\\dots,\\quad p_9=0.280369\\dots\n",
    "$$</i>"
   ]
  },
  {
   "cell_type": "markdown",
   "metadata": {},
   "source": [
    "<div markdown=1 class=\"Answers\"> "
   ]
  },
  {
   "cell_type": "code",
   "execution_count": null,
   "metadata": {},
   "outputs": [],
   "source": []
  },
  {
   "cell_type": "markdown",
   "metadata": {},
   "source": [
    "<div markdown=1 class=\"DoIt\"> For which target $1\\leq T \\leq 30$ is the game the most favourable?"
   ]
  },
  {
   "cell_type": "code",
   "execution_count": null,
   "metadata": {},
   "outputs": [],
   "source": [
    "\n"
   ]
  },
  {
   "cell_type": "markdown",
   "metadata": {},
   "source": [
    "<div markdown=1 class=\"Answers\"> "
   ]
  },
  {
   "cell_type": "code",
   "execution_count": null,
   "metadata": {},
   "outputs": [],
   "source": []
  }
 ],
 "metadata": {
  "kernelspec": {
   "display_name": "Python 3 (ipykernel)",
   "language": "python",
   "name": "python3"
  },
  "language_info": {
   "codemirror_mode": {
    "name": "ipython",
    "version": 3
   },
   "file_extension": ".py",
   "mimetype": "text/x-python",
   "name": "python",
   "nbconvert_exporter": "python",
   "pygments_lexer": "ipython3",
   "version": "3.9.21"
  }
 },
 "nbformat": 4,
 "nbformat_minor": 4
}
