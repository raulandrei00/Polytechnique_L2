{
 "cells": [
  {
   "cell_type": "markdown",
   "metadata": {},
   "source": [
    "<img src='./figures/logo_ecole_polytechnique_IPP.png' style='position:absolute; top:0; right:0;' width='80px' height='' alt='' />\n",
    "\n",
    "<center>**Bachelor of Ecole Polytechnique**</center>\n",
    "<center>Algorithms for Discrete Mathematics, year 2, semester 1</center>\n",
    "<center>Lecturer: Ziad Kobeissi <a href=\"mailto:ziad.kobeissi@inria.fr\">(send mail)</a></center>\n",
    "<center>Notebook by Lucas Gérin</center>\n",
    "\n",
    "# Graphs and Matrices 2: Solving some Probabilistic Models\n"
   ]
  },
  {
   "cell_type": "markdown",
   "metadata": {},
   "source": [
    "## Table of contents\n",
    "\n",
    "- [Model 1: The Frog](#frog)\n",
    "- [Model 2: Opinion propagation among sheep](#Sheeps)\n",
    "- [Model 3: OK Corral](#Corral)\n",
    "- [Bonus: The birthday paradox](#birthday)\n"
   ]
  },
  {
   "cell_type": "code",
   "execution_count": 2,
   "metadata": {},
   "outputs": [
    {
     "data": {
      "text/html": [
       "<link href='http://fonts.googleapis.com/css?family=Fenix' rel='stylesheet' type='text/css'>\n",
       "<link href='http://fonts.googleapis.com/css?family=Alegreya+Sans:100,300,400,500,700,800,900,100italic,300italic,400italic,500italic,700italic,800italic,900italic' rel='stylesheet' type='text/css'>\n",
       "<link href='http://fonts.googleapis.com/css?family=Source+Code+Pro:300,400' rel='stylesheet' type='text/css'>\n",
       "<link href=\"https://fonts.googleapis.com/css?family=Oswald|Raleway\" rel=\"stylesheet\" type='text/css'> \n",
       "<style>\n",
       ".prompt{\n",
       "    display: none !important;\n",
       "}\n",
       "\n",
       ".rendered_html pre {\n",
       "    border: 1px solid #f0f6f9 !important;\n",
       "}\n",
       "\n",
       ".rendered_html pre, .rendered_html code {\n",
       "    background-color: #d3d8db !important;\n",
       "    padding: 1% !important;\n",
       "    line-height: 200% !important;\n",
       "    border-radius: 10px !important;\n",
       "}\n",
       "\n",
       "div.input_area {\n",
       "    border-radius: 10px !important;\n",
       "    background-color: #e1e1e6 !important;\n",
       "}\n",
       "\n",
       "div.cell{\n",
       "        width:85% !important;\n",
       "        margin-left:5% !important;\n",
       "        /*margin-right:auto;*/\n",
       "    }\n",
       "    h1, h2, h3, h4, h5 {\n",
       "        font-family: 'Oswald', sans-serif; !important;\n",
       "        font-style: oblique !important;\n",
       "    }\n",
       "    div.text_cell_render{\n",
       "        font-family: 'Raleway', sans-serif; !important;\n",
       "        line-height: 135% !important;\n",
       "        font-size: 120% !important;\n",
       "        width:100%;/*600px;*/\n",
       "        /*margin-left:auto;*/\n",
       "        /*margin-right:auto;*/\n",
       "    }\n",
       "    .CodeMirror{\n",
       "            font-family: \"Source Code Pro\" !important;\n",
       "\t\t\tfont-size: 100% !important;\n",
       "    }\n",
       "    .text_cell_render p{\n",
       "        text-align: justify !important;\n",
       "    }\n",
       "    .text_cell_render h1 {\n",
       "        font-weight: 200 !important;\n",
       "\t\tline-height: 100% !important;\n",
       "        color:#47597A !important;\n",
       "        margin-bottom: 10.em !important;\n",
       "        margin-top: 50.em !important;\n",
       "        padding-bottom: 50.em !important;\n",
       "        padding-top: 50.em !important;\n",
       "        display: block !important;\n",
       "        font-size: 300% !important;\n",
       "        text-align: center !important;\n",
       "        border-bottom: 1px solid #47597A !important;\n",
       "        border-top: 1px solid #47597A !important;\n",
       "    }\n",
       "    .text_cell_render h2 {\n",
       "        font-weight: 200 !important;\n",
       "\tline-height: 100% !important;\n",
       "        color:#47597A !important;\n",
       "        margin-bottom: 0.5em !important;\n",
       "        margin-top: 0.5em !important;\n",
       "        display: block !important;\n",
       "        font-size: 200% !important;\n",
       "        border-bottom: 1px solid #47597A !important;\n",
       "    }\n",
       "    .text_cell_render h3 {\n",
       "        font-weight: 200 !important;\n",
       "\tline-height: 100% !important;\n",
       "        color:#47597A !important;\n",
       "        margin-bottom: 0.5em !important;\n",
       "        margin-top: 0.5em !important;\n",
       "        display: block !important;\n",
       "        font-size: 150% !important;\n",
       "    }\n",
       "    .text_cell_render h4 {\n",
       "        font-style: italic !important;\n",
       "        font-weight: bold !important;\n",
       "\tline-height: 100% !important;\n",
       "        color:#47597A !important;\n",
       "        display: block !important;\n",
       "        font-size: 100% !important;\n",
       "    }\n",
       "    .text_cell_render h5 {\n",
       "        font-weight: 200 !important;\n",
       "\tline-height: 100% !important;\n",
       "        color:#47597A !important;\n",
       "        margin-bottom: 0.5em !important;\n",
       "        margin-top: 0.5em !important;\n",
       "        display: block !important;\n",
       "        font-size: 100% !important;\n",
       "    }\n",
       "    .text_cell_render ul {\n",
       "\tlist-style-type: disc !important;\n",
       "\tline-height: 2;\n",
       "\t/*color:#47597A !important;*/\n",
       "    }\n",
       "    .warning{\n",
       "        color: rgb( 240, 20, 20 ) !important;\n",
       "        }\n",
       "    .Abstract {  \n",
       "\ttext-align: justify;\n",
       "\tbackground-color: #d6edf9;\n",
       "\tborder-left: 5px solid #47597A;\n",
       "\tpadding: 0.5em;\n",
       "\tmargin: 0  150px 0 150px;\n",
       "    }\n",
       "    .Def {    \n",
       "\tbackground-color: #d9f7d7;\n",
       "\tborder-left: 5px solid #4a7047;\n",
       "\tpadding: 0.5em;\n",
       "    }\n",
       "    .Def:before {\n",
       "\tcontent: \"Definition.\";\n",
       "\tcolor:#4a7047;\n",
       "\tfont-weight: bold;\n",
       "\tfont-style: normal;\n",
       "    }\n",
       "    .DoIt {    \n",
       "\tbackground-color: #e8cfc9;\n",
       "\tborder-left: 5px solid #a90e05;\n",
       "\tpadding: 0.5em;\n",
       "    }\n",
       "    .DoIt:before {\n",
       "\tcontent: \"Do it yourself.\";\n",
       "\tcolor:#a90e05;\n",
       "\tfont-weight: bold;\n",
       "\tfont-style: normal;\n",
       "    }\n",
       "    .Answers {    \n",
       "\tbackground-color: #DDA0DD;\n",
       "\tborder-left: 5px solid #9932CC;\n",
       "\tpadding: 0.5em;\n",
       "    }\n",
       "    .Answers:before {\n",
       "\tcontent: \"Answers.\";\n",
       "\tcolor:#682145;\n",
       "\tfont-weight: bold;\n",
       "\tfont-style: normal;\n",
       "    }\n",
       "    .Prop {    \n",
       "\tbackground-color:#f9ecd1;\n",
       "\tborder-left: 5px solid #ba7021;\n",
       "\tpadding: 0.5em;\n",
       "    }\n",
       "   .Prop:before {\n",
       "       content: \"Proposition.\";\n",
       "       color:#ba7021;\n",
       "       font-weight: bold;\n",
       "       font-style: normal;\n",
       "    }\n",
       "   .Thm {    \n",
       "\tbackground-color:#f9ecd1;\n",
       "\tborder-left: 5px solid #ba7021;\n",
       "\tpadding: 0.5em;\n",
       "    }\n",
       "   .Thm:before {\n",
       "       content: \"Theorem.\";\n",
       "       color:#ba7021;\n",
       "       font-weight: bold;\n",
       "       font-style: normal;\n",
       "    } \n",
       "   .Algo {    \n",
       "\tbackground-color:#f9ecd1;\n",
       "\tborder-left: 5px solid #ba7021;\n",
       "\tpadding: 0.5em;\n",
       "    }\n",
       "   .Algo:before {\n",
       "       content: \"Algorithm.\";\n",
       "       color:#ba7021;\n",
       "       font-weight: bold;\n",
       "       font-style: normal;\n",
       "    }\n",
       "    .Rmk {    \n",
       "\tbackground-color: #dbf1fc;\n",
       "\tborder-left: 5px solid #385487;\n",
       "\tpadding: 0.5em;\n",
       "    }\n",
       "    .Rmk:before {\n",
       "\tcontent: \"Remark.\";\n",
       "\tcolor:#385487;\n",
       "\tfont-weight: bold;\n",
       "\tfont-style: normal;\n",
       "    }\n",
       "    .Ex {    \n",
       "\tbackground-color: #dbf1fc;\n",
       "\tborder-left: 5px solid #385487;\n",
       "\tpadding: 0.5em;\n",
       "    }\n",
       "    .Ex:before {\n",
       "\tcontent: \"Example.\";\n",
       "\tcolor:#385487;\n",
       "\tfont-weight: bold;\n",
       "\tfont-style: normal;\n",
       "    }\n",
       "\n",
       "/*    .toc-item-num {\n",
       "#        display: none;\n",
       "#    }\n",
       "*/\n",
       "    .reveal section img{\n",
       "        margin: 0px auto;\n",
       "    }\n",
       "\n",
       "    div.output_area img{\n",
       "        display: block;\n",
       "        margin: 0px auto;\n",
       "    }\n",
       "  \n",
       "</style>\n",
       "\n",
       "<script>\n",
       "MathJax.Hub.Config({\n",
       "TeX: {extensions: [\"AMSmath.js\"] },\n",
       "                tex2jax: {\n",
       "                    inlineMath: [ ['$','$'], [\"\\\\(\",\"\\\\)\"] ],\n",
       "                    displayMath: [ ['$$','$$'], [\"\\\\[\",\"\\\\]\"] ]\n",
       "                },\n",
       "                displayAlign: 'center', // Change this to 'center' to center equations.\n",
       "                \"HTML-CSS\": {\n",
       "                    styles: {'.MathJax_Display': {\"margin\": 4}}\n",
       "                }\n",
       "        });\n",
       "\n",
       "\n",
       "\n",
       "</script>\n"
      ],
      "text/plain": [
       "<IPython.core.display.HTML object>"
      ]
     },
     "execution_count": 2,
     "metadata": {},
     "output_type": "execute_result"
    }
   ],
   "source": [
    "# execute this part to modify the css style\n",
    "from IPython.core.display import HTML\n",
    "def css_styling():\n",
    "    styles = open(\"../style/custom2.css\").read()\n",
    "    return HTML(styles)\n",
    "css_styling()\n"
   ]
  },
  {
   "cell_type": "code",
   "execution_count": 3,
   "metadata": {},
   "outputs": [],
   "source": [
    "## loading python libraries\n",
    "\n",
    "# necessary to display plots inline:\n",
    "%matplotlib inline   \n",
    "\n",
    "# load the libraries\n",
    "import matplotlib.pyplot as plt # 2D plotting library\n",
    "import numpy as np              # package for scientific computing  \n",
    "\n",
    "from math import *              # package for mathematics (pi, arctan, sqrt, factorial ...)\n",
    "import sympy as sympy             # package for symbolic computation\n",
    "from sympy import *\n"
   ]
  },
  {
   "cell_type": "markdown",
   "metadata": {},
   "source": [
    "<!--<div markdown=1 class=\"Rmk\"> Here is the Latex code of a matrix that you can copy/paste throughout the notebook:\n",
    "$$\n",
    "M=\n",
    "\\begin{matrix}\n",
    "v_1 \\\\ v_2 \\\\ v_3 \n",
    "\\end{matrix}\n",
    "\\begin{pmatrix}\n",
    "1 & 1 & 0\\\\\n",
    "0 & 0 & 1\\\\\n",
    "0 & 1 & 0\\\\\n",
    "\\end{pmatrix}.\n",
    "$$-->\n"
   ]
  },
  {
   "cell_type": "markdown",
   "metadata": {},
   "source": [
    "<a id=\"frog\"></a>\n",
    "## Model 1: The frog <font size='-0.5'>(or how to become a trader?)</font>\n",
    "\n",
    "This is a maths puzzle which used to be asked in job interviews (to be hired as a quantitative analyst or trader).\n",
    "\n",
    "Here is the puzzle: a frog starts from the bank of a river located at $x=0$. The other bank is located at $x=10$. It first jumps uniformly at random in $\\{1,2,\\dots,10\\}$ (if it jumps at $10$ the frog has crossed the river and the process is over). Then, at each time step, if it is located at some $y<10$ then it jumps at a uniform location in $\\{y+1,\\dots,10\\}$.\n",
    "\n",
    "<img src=\"figures/Grenouille.jpg\" style=\"width: 700px;\"/>\n",
    "\n",
    "The question is: what is the probability distribution of the total number of steps needed to cross the river?<br>\n",
    "<i><font size ='-1'>(During the job interview, candidates were given access to a computer with a programming language.)</font></i>\n"
   ]
  },
  {
   "cell_type": "markdown",
   "metadata": {},
   "source": [
    "<div markdown=1 class=\"DoIt\"> \n",
    "\n",
    "\n",
    "For $\n",
    "n \\geq 0 \n",
    "$ let $X_n\\in\\{0,1,\\dots, 10\\}$ be the location of the frog at time $n$. Let also $T$ be the random variable given by the number of steps needed to reach the other bank. Namely,\n",
    "$\n",
    "T=\\min \\{n\\geq 0\\text{ such that }X_n=10\\}. \n",
    "$\n",
    "\n",
    "\n",
    "1. Write a script which computes the transition matrix $Q=(Q_{i,j})_{0\\leq i,j \\leq 10} $ associated to the Markov chain $(X_n)_n$. \n",
    "2. Write a function `DistributionFrog(i,n)` which computes the probability that the frog is at location `i` at time `n` (<i>i.e.</i>  $\\mathbb{P}(X_n=i)$).\n",
    "3. For any $1\\leq t\\leq 10$ write $\\mathbb{P}(T\\leq t)$ under the form $\\mathbb{P}(X_n=i)$ for some well chosen $n$ and $i$. Deduce how to compute $\\mathbb{P}(T= t)$ using the transition matrix $Q$.\n",
    "4. Plot the distribution $t\\mapsto \\mathbb{P}(T=t)$. What is the most probable value for $T$?"
   ]
  },
  {
   "cell_type": "code",
   "execution_count": 50,
   "metadata": {},
   "outputs": [
    {
     "name": "stdout",
     "output_type": "stream",
     "text": [
      "2.9289682539682547\n"
     ]
    },
    {
     "data": {
      "image/png": "[encoded data removed]",
      "text/plain": [
       "<Figure size 640x480 with 1 Axes>"
      ]
     },
     "metadata": {},
     "output_type": "display_data"
    }
   ],
   "source": [
    "\n",
    "\n",
    "Q = np.ndarray( [11,11] , float )\n",
    "for i in range(11):\n",
    "    for j in range(i+1):\n",
    "        Q[i][j] = 0\n",
    "    for j in range(i+1 , 1):\n",
    "        Q[i][j] = 1 / (10 - i)\n",
    "Q[10][10] = 1\n",
    "        \n",
    "\n",
    "I_state = np.zeros(11)\n",
    "\n",
    "I_state[0] = 1\n",
    "\n",
    "\n",
    "\n",
    "def distribution_frog (i , n):\n",
    "    return (I_state @ np.linalg.matrix_power(Q , n))[i]\n",
    "\n",
    "# print (distribution_frog(5 , 1))\n",
    "\n",
    "P_t = np.zeros(15)\n",
    "\n",
    "def E_T ():\n",
    "    ans = 0\n",
    "    crt_state = I_state\n",
    "    for i in range(1,15):\n",
    "        prv = crt_state[10]\n",
    "        crt_state = crt_state @ Q\n",
    "        P_t[i] = crt_state[10] - prv\n",
    "        ans += P_t[i] * i\n",
    "    return ans\n",
    "print(E_T())\n",
    "\n",
    "plt.plot([i for i in range(15)] , P_t)\n",
    "plt.show()\n"
   ]
  },
  {
   "cell_type": "markdown",
   "metadata": {},
   "source": [
    "<div markdown=1 class=\"Answers\">\n",
    "\n",
    "1. \n",
    "2. \n",
    "3. "
   ]
  },
  {
   "cell_type": "code",
   "execution_count": null,
   "metadata": {},
   "outputs": [],
   "source": [
    "# Question 4 the most likely value is 3"
   ]
  },
  {
   "cell_type": "markdown",
   "metadata": {},
   "source": [
    "<a id='Sheeps'></a>\n",
    "## Model 2. Opinion propagation among sheep\n",
    "\n",
    "<img src=\"figures/SheepsMacWindows.jpg\" style=\"width: 450px;\"/>\n",
    "\n",
    "Let $N>1$ be fixed and consider a population of $N$ sheep, either pro-Mac or pro-Windows.<br>\n",
    "\n",
    "Initially, $0\\leq m\\leq N$ sheep are pro-Mac. At times $t= 0,1,2,...,$ a randomly and uniformly chosen sheep bleats its opinion and instantly one sheep of the other camp switches its opinion. The process ends when unanimity is reached.<br>\n",
    "\n",
    "We will ask:\n",
    "* what can we say about the number of pro-Mac sheep at a given time?\n",
    "* what is the probability that unanimity is reached for pro-Mac?"
   ]
  },
  {
   "cell_type": "markdown",
   "metadata": {},
   "source": [
    "<div markdown=1 class=\"DoIt\"> \n",
    "\n",
    "1. Let $M_k\\in\\{0,1,\\dots,N\\}$ be the number of pro-Mac sheep at time $k$. Find the transition matrix $Q=(Q_{i,j})_{0\\leq i,j \\leq N} $ associated to this Markov chain $(M_k)_k$.\n",
    "2. Using $Q$, write a function `ProbaSheep(N,m,i,t)` which computes the probability that starting from $m$, there are exactly $i$ pro-Mac sheep at time $t$.\n",
    "3. Draw a plot of $i\\mapsto $ `ProbaSheep(N,m,i,t)` for $N=100, m=70, t=30$."
   ]
  },
  {
   "cell_type": "code",
   "execution_count": 57,
   "metadata": {},
   "outputs": [
    {
     "name": "stdout",
     "output_type": "stream",
     "text": [
      "[[1.   0.   0.   0.   0.  ]\n",
      " [0.75 0.   0.25 0.   0.  ]\n",
      " [0.   0.5  0.   0.5  0.  ]\n",
      " [0.   0.   0.25 0.   0.75]\n",
      " [0.   0.   0.   0.   1.  ]]\n"
     ]
    }
   ],
   "source": [
    "#Q1\n",
    "\n",
    "def Q(N):\n",
    "    q = np.ndarray([N+1 , N+1] , float) # transitioning form x mac users to x+1 or x-1 mac users\n",
    "    for i in range(N+1):\n",
    "        if (i == 0 or i == N): \n",
    "            for j in range (N+1): q[i][j] = 0\n",
    "            q[i][i] = 1\n",
    "        else:\n",
    "            for j in range(N+1):\n",
    "                q[i][j] = 0\n",
    "            q[i][i+1] = i/N\n",
    "            q[i][i-1] = 1 - i/N\n",
    "    return q\n",
    "\n",
    "print(Q(4))\n",
    "\n",
    "\n"
   ]
  },
  {
   "cell_type": "markdown",
   "metadata": {},
   "source": [
    "<div markdown=1 class=\"Answers\"> 1."
   ]
  },
  {
   "cell_type": "code",
   "execution_count": 60,
   "metadata": {},
   "outputs": [
    {
     "data": {
      "image/png": "[encoded data removed]",
      "text/plain": [
       "<Figure size 640x480 with 1 Axes>"
      ]
     },
     "metadata": {},
     "output_type": "display_data"
    }
   ],
   "source": [
    "\n",
    "def init_state (N , m):\n",
    "    ret = np.zeros(N+1)\n",
    "    ret[m] = 1\n",
    "    return ret\n",
    "\n",
    "# Question 2\n",
    "def proba_sheep(N , m , i , t): # ProbaSheep\n",
    "    q = Q(N)\n",
    "    init = init_state(N , m)\n",
    "\n",
    "    return (init @ q.__pow__(t))[i]\n",
    "# Question 3\n",
    "\n",
    "def proba_sheep_vec(N , m , t): # ProbaSheep\n",
    "    q = Q(N)\n",
    "    init = init_state(N , m)\n",
    "\n",
    "    return (init @ np.linalg.matrix_power(q , t))\n",
    "\n",
    "\n",
    "\n",
    "plt.plot([i for i in range(101)] , proba_sheep_vec(100 ,50,70)) # OKKK\n",
    "plt.show()\n"
   ]
  },
  {
   "cell_type": "markdown",
   "metadata": {},
   "source": [
    "As $0$ and $N$ are absorbing states the processus is eventually absorbed at $0$ or $N$: there is unanimity pro-Mac or pro-Windows among sheep.\n",
    "\n",
    "For fixed $N$ let $p_{m}$ denote the probability that the unanimity is achieved for Mac, starting from $m$ pro-Mac and $N-m$ pro-Windows sheep. "
   ]
  },
  {
   "cell_type": "markdown",
   "metadata": {},
   "source": [
    "<div markdown=1 class=\"DoIt\"> \n",
    "\n",
    "1. Assume that the Markov chain $(M_k)$ starts at $M_0=m$. Explain why \n",
    "$$\n",
    "p_m = \\lim_{k\\to +\\infty} \\mathbb{P}(M_k = N).\n",
    "$$<br>\n",
    "\n",
    "since N is an absorbing state, $ \\lim_{k\\to +\\infty} \\mathbb{P}(M_k = N) = \\mathbb{P}(sup(M_k) = N) = p_m$\n",
    "\n",
    "\n",
    "(Hint: If you want to write a rigourous proof you may use Proposition 1.3 in the Lecture Notes of MAA203 or <a href=\"https://en.wikipedia.org/wiki/Measure_(mathematics)#Continuity_from_below\">this link (Wikipedia)</a>.) <br>\n",
    "2. Use your function `ProbaSheep(N,m,i,t)` to plot $m\\mapsto p_{m}$ for $N=20$. (We consider that $k=N^2$ is large enough for the previous approximation to hold.)"
   ]
  },
  {
   "cell_type": "markdown",
   "metadata": {},
   "source": [
    "<div markdown=1 class=\"Answers\"> \n",
    "1. "
   ]
  },
  {
   "cell_type": "code",
   "execution_count": 59,
   "metadata": {},
   "outputs": [],
   "source": [
    "# Question 2\n",
    "\n"
   ]
  },
  {
   "cell_type": "markdown",
   "metadata": {},
   "source": [
    "<a id=\"Corral\"></a>\n",
    "\n",
    "## Model 3. OK Corral\n",
    "\n",
    "We consider the following probabilistic model. <i>(Its name refers to <a href='https://en.wikipedia.org/wiki/Gunfight_at_the_O.K._Corral'>this historical event</a>.)</i><br>\n",
    "\n",
    "Initially there is a  population of $N$ gangsters, $a$ of them belong to gang $A$ and $b=N-a$ belong to gang $B$. At times $t= 0,1,2,...,$ a randomly and uniformly chosen gangster (among survivors) kills a member of the other gang. The process ends when one of the gangs is wiped out.\n",
    "\n",
    "We want to find:\n",
    "* The probability that the gang $A$ wins (depending on $a,b$)\n",
    "* The expected number of survivors of gang $A$ at the end of the gunfight.\n",
    "\n"
   ]
  },
  {
   "cell_type": "markdown",
   "metadata": {},
   "source": [
    "<div markdown=1 class=\"DoIt\"> \n",
    "\n",
    "Let $p(i,j)$ be the probability that Gang $A$ wins the gunfight against gang $B$, starting from respectively $i,j$ gangsters. \n",
    "\n",
    "1. Find $p(i,j)$ when $i$ or $j$ equals $0$.\n",
    "2. For $i\\geq 1$ and $j\\geq 1$ write $p(i,j)$ as a function of $p(i,j-1)$ and $p(i-1,j)$.\n",
    "3. Deduce a python function which computes $p(i,j)$ and draw a plot of $i\\mapsto p(i,b)$ for fixed $b=20$ and $1\\leq i\\leq 2b$. Is this consistent with intuition?"
   ]
  },
  {
   "cell_type": "markdown",
   "metadata": {},
   "source": [
    "<div markdown=1 class=\"Answers\"> \n",
    "\n",
    "1. $ p(i,j) = 1 $ if $j = 0$ and $0$ if $i = 0$\n",
    "2. $ p(i,j) = \\frac{i}{i+j} \\cdot p(i,j-1) + \\frac{j}{i+j} \\cdot p(i-1,j) $ \n"
   ]
  },
  {
   "cell_type": "code",
   "execution_count": 61,
   "metadata": {},
   "outputs": [],
   "source": [
    "from functools import cache\n",
    "\n",
    "@cache\n",
    "def p(i,j):\n",
    "    if (i == 0): return 0\n",
    "    if j == 0: return 1\n",
    "    return i / (i+j) * p(i,j-1) + j / (i+j) * p(i-1,j)"
   ]
  },
  {
   "cell_type": "code",
   "execution_count": 62,
   "metadata": {},
   "outputs": [
    {
     "data": {
      "image/png": "[encoded data removed]",
      "text/plain": [
       "<Figure size 640x480 with 1 Axes>"
      ]
     },
     "metadata": {},
     "output_type": "display_data"
    }
   ],
   "source": [
    "b = 20\n",
    "index = range(2*b)\n",
    "prob = [p(i , b) for i in index]\n",
    "plt.plot(index , prob)\n",
    "plt.show()"
   ]
  },
  {
   "cell_type": "markdown",
   "metadata": {},
   "source": [
    "<div markdown=1 class=\"DoIt\"> \n",
    "\n",
    "Let $e(i,j)$ be the expected numbers of survivors of Gang $A$ after the gunfight starting from respectively $i,j$ gangsters. \n",
    "\n",
    "1. State a recursive formula for the $e(i,j)$.\n",
    "\n",
    "$ e(i,j) =  \\frac{i}{i+j} \\cdot e(i,j-1) + \\frac{j}{i+j} \\cdot e(i-1,j) $ \n",
    "\n",
    "2. Write a function which computes $e(i,j)$ and draw a plot of $i\\mapsto e(i,b)$ for fixed $b=8$ and $1\\leq a\\leq 20$."
   ]
  },
  {
   "cell_type": "markdown",
   "metadata": {},
   "source": [
    "<div markdown=1 class=\"Answers\"> "
   ]
  },
  {
   "cell_type": "code",
   "execution_count": 64,
   "metadata": {},
   "outputs": [],
   "source": [
    "@cache\n",
    "def e(i,j):\n",
    "    if (i == 0): return 0\n",
    "    if j == 0: return i\n",
    "    return i / (i+j) * e(i,j-1) + j / (i+j) * e(i-1,j)"
   ]
  },
  {
   "cell_type": "code",
   "execution_count": 65,
   "metadata": {},
   "outputs": [
    {
     "data": {
      "image/png": "[encoded data removed]",
      "text/plain": [
       "<Figure size 640x480 with 1 Axes>"
      ]
     },
     "metadata": {},
     "output_type": "display_data"
    }
   ],
   "source": [
    "b = 20\n",
    "index = range(2*b)\n",
    "prob = [e(i , b) for i in index]\n",
    "plt.plot(index , prob)\n",
    "plt.show()"
   ]
  },
  {
   "cell_type": "markdown",
   "metadata": {},
   "source": [
    "<a id=\"birthday\"></a>\n",
    "## **Bonus** The birthday paradox\n",
    " \n",
    "We consider the following problem. Consider a group of $n\\geq 2$ people, we assume that their birthdays $X_1,\\dots,X_n$ are uniformly distributed and independent in $\\{1,2,\\dots,k\\}$, with $k=365$. The <i>birthday paradox</i> asks for the probability of the event\n",
    "\n",
    "$$\n",
    "E_{n,k} =\\{ \\text{ there exist }i\\neq j, 1\\leq i,j \\leq n; X_i=X_j\\}.\n",
    "$$\n",
    "\n",
    "Obviously we have that $\\mathbb{P}(E_{n,365})=1$ as soon as $n\\geq 365$. The so-called <i>paradox</i> is that a high probability is reached for quite small values of $n$."
   ]
  },
  {
   "cell_type": "markdown",
   "metadata": {},
   "source": [
    "<div markdown=1 class=\"DoIt\"> \n",
    "\n",
    "Let $F_{n,k}$ be the complementary event of $E_{n,k}$.\n",
    "\n",
    "1. Compute $\\mathbb{P}(F_{1,k})$ and $\\mathbb{P}(F_{2,k})$.\n",
    "2. Compute\n",
    "$$\n",
    "\\mathbb{P}(F_{n,k}|\\ F_{n-1,k}),\n",
    "$$\n",
    "and deduce the formulas for $\\mathbb{P}(F_{n,k}), \\mathbb{P}(E_{n,k})$."
   ]
  },
  {
   "cell_type": "markdown",
   "metadata": {},
   "source": [
    "<div markdown=1 class=\"Answers\"> "
   ]
  },
  {
   "cell_type": "markdown",
   "metadata": {},
   "source": [
    "<div markdown=1 class=\"DoIt\"> \n",
    "\n",
    "Write a function that takes $n,k$ as inputs and returns $\\mathbb{P}(E_{n,k})$."
   ]
  },
  {
   "cell_type": "code",
   "execution_count": 71,
   "metadata": {},
   "outputs": [
    {
     "name": "stdout",
     "output_type": "stream",
     "text": [
      "0.2816358843881601\n"
     ]
    }
   ],
   "source": [
    "\n",
    "@cache \n",
    "def PF (n , k):\n",
    "    if n <= 1: return 1\n",
    "    return (k-n) / k * PF(n-1,k)\n",
    "\n",
    "def PE (n , k):\n",
    "    return 1 - PF(n , k)\n",
    "\n",
    "print(PE(15 , 365))\n"
   ]
  },
  {
   "cell_type": "markdown",
   "metadata": {},
   "source": [
    "<div markdown=1 class=\"DoIt\"> \n",
    "\n",
    "1. Plot $n\\mapsto \\mathbb{P}(E_{n,365})$ for $n=2$ to $n=100$.\n",
    "2. Find the smallest $n$ such that $\\mathbb{P}(E_{n,365})\\geq 3/4$."
   ]
  },
  {
   "cell_type": "code",
   "execution_count": 72,
   "metadata": {},
   "outputs": [
    {
     "data": {
      "image/png": "[encoded data removed]",
      "text/plain": [
       "<Figure size 640x480 with 1 Axes>"
      ]
     },
     "metadata": {},
     "output_type": "display_data"
    },
    {
     "name": "stdout",
     "output_type": "stream",
     "text": [
      "31\n"
     ]
    }
   ],
   "source": [
    "plt.plot (range(2 , 100) , [PE(n , 365) for n in range(2 , 100)])\n",
    "plt.show()\n",
    "\n",
    "for n in range (50):\n",
    "    if (PE(n , 365) >= 3/4):\n",
    "        print(n)\n",
    "        break"
   ]
  },
  {
   "cell_type": "markdown",
   "metadata": {},
   "source": [
    "<div markdown=1 class=\"Answers\"> \n",
    "2) "
   ]
  },
  {
   "cell_type": "code",
   "execution_count": null,
   "metadata": {},
   "outputs": [],
   "source": []
  },
  {
   "cell_type": "code",
   "execution_count": null,
   "metadata": {},
   "outputs": [],
   "source": []
  },
  {
   "cell_type": "code",
   "execution_count": null,
   "metadata": {},
   "outputs": [],
   "source": []
  }
 ],
 "metadata": {
  "kernelspec": {
   "display_name": "Python 3",
   "language": "python",
   "name": "python3"
  },
  "language_info": {
   "codemirror_mode": {
    "name": "ipython",
    "version": 3
   },
   "file_extension": ".py",
   "mimetype": "text/x-python",
   "name": "python",
   "nbconvert_exporter": "python",
   "pygments_lexer": "ipython3",
   "version": "3.9.18"
  }
 },
 "nbformat": 4,
 "nbformat_minor": 4
}
